{
 "cells": [
  {
   "cell_type": "code",
   "execution_count": 1,
   "id": "63c80d0d-7899-4be3-b822-185a475bc4ac",
   "metadata": {},
   "outputs": [],
   "source": [
    "import pandas as pd\n",
    "import numpy as np\n",
    "import matplotlib.pyplot as plt \n",
    "%matplotlib inline\n",
    "import seaborn as sns"
   ]
  },
  {
   "cell_type": "code",
   "execution_count": 2,
   "id": "463a7e4d-f9e4-4277-b674-983d0de4064b",
   "metadata": {},
   "outputs": [
    {
     "name": "stdout",
     "output_type": "stream",
     "text": [
      "   PassengerId  Survived  Pclass  \\\n",
      "0            1         0       3   \n",
      "1            2         1       1   \n",
      "2            3         1       3   \n",
      "3            4         1       1   \n",
      "4            5         0       3   \n",
      "\n",
      "                                                Name     Sex   Age  SibSp  \\\n",
      "0                            Braund, Mr. Owen Harris    male  22.0      1   \n",
      "1  Cumings, Mrs. John Bradley (Florence Briggs Th...  female  38.0      1   \n",
      "2                             Heikkinen, Miss. Laina  female  26.0      0   \n",
      "3       Futrelle, Mrs. Jacques Heath (Lily May Peel)  female  35.0      1   \n",
      "4                           Allen, Mr. William Henry    male  35.0      0   \n",
      "\n",
      "   Parch            Ticket     Fare Cabin Embarked  \n",
      "0      0         A/5 21171   7.2500   NaN        S  \n",
      "1      0          PC 17599  71.2833   C85        C  \n",
      "2      0  STON/O2. 3101282   7.9250   NaN        S  \n",
      "3      0            113803  53.1000  C123        S  \n",
      "4      0            373450   8.0500   NaN        S  \n"
     ]
    }
   ],
   "source": [
    "data = pd.read_csv(\"C:/Users/gaonk/OneDrive/Desktop/ML/MLPractice/ML Dataset/ML Dataset/titanic_train.csv\")\n",
    "print(data.head())"
   ]
  },
  {
   "cell_type": "code",
   "execution_count": 3,
   "id": "5097c633-c892-436a-9f75-27a5fe5c578e",
   "metadata": {},
   "outputs": [
    {
     "name": "stdout",
     "output_type": "stream",
     "text": [
      "       PassengerId    Survived      Pclass         Age       SibSp  \\\n",
      "count   891.000000  891.000000  891.000000  714.000000  891.000000   \n",
      "mean    446.000000    0.383838    2.308642   29.699118    0.523008   \n",
      "std     257.353842    0.486592    0.836071   14.526497    1.102743   \n",
      "min       1.000000    0.000000    1.000000    0.420000    0.000000   \n",
      "25%     223.500000    0.000000    2.000000   20.125000    0.000000   \n",
      "50%     446.000000    0.000000    3.000000   28.000000    0.000000   \n",
      "75%     668.500000    1.000000    3.000000   38.000000    1.000000   \n",
      "max     891.000000    1.000000    3.000000   80.000000    8.000000   \n",
      "\n",
      "            Parch        Fare  \n",
      "count  891.000000  891.000000  \n",
      "mean     0.381594   32.204208  \n",
      "std      0.806057   49.693429  \n",
      "min      0.000000    0.000000  \n",
      "25%      0.000000    7.910400  \n",
      "50%      0.000000   14.454200  \n",
      "75%      0.000000   31.000000  \n",
      "max      6.000000  512.329200  \n"
     ]
    }
   ],
   "source": [
    "print(data.describe())"
   ]
  },
  {
   "cell_type": "code",
   "execution_count": 4,
   "id": "4d02b852-0d28-4fff-9050-a2addea9ca4f",
   "metadata": {},
   "outputs": [
    {
     "name": "stdout",
     "output_type": "stream",
     "text": [
      "PassengerId      0\n",
      "Survived         0\n",
      "Pclass           0\n",
      "Name             0\n",
      "Sex              0\n",
      "Age            177\n",
      "SibSp            0\n",
      "Parch            0\n",
      "Ticket           0\n",
      "Fare             0\n",
      "Cabin          687\n",
      "Embarked         2\n",
      "dtype: int64\n"
     ]
    }
   ],
   "source": [
    "print(data.isnull().sum())"
   ]
  },
  {
   "cell_type": "code",
   "execution_count": 5,
   "id": "4b2657fc-f122-4c26-b82b-00e43156819e",
   "metadata": {},
   "outputs": [
    {
     "name": "stdout",
     "output_type": "stream",
     "text": [
      "   PassengerId  Survived  Pclass     Sex   Age  SibSp  Parch  \\\n",
      "0            1         0       3    male  22.0      1      0   \n",
      "1            2         1       1  female  38.0      1      0   \n",
      "2            3         1       3  female  26.0      0      0   \n",
      "3            4         1       1  female  35.0      1      0   \n",
      "4            5         0       3    male  35.0      0      0   \n",
      "\n",
      "             Ticket     Fare Embarked  \n",
      "0         A/5 21171   7.2500        S  \n",
      "1          PC 17599  71.2833        C  \n",
      "2  STON/O2. 3101282   7.9250        S  \n",
      "3            113803  53.1000        S  \n",
      "4            373450   8.0500        S  \n"
     ]
    }
   ],
   "source": [
    "data = data.drop('Cabin', axis=1)\n",
    "data = data.drop('Name', axis=1)\n",
    "print(data.head())"
   ]
  },
  {
   "cell_type": "code",
   "execution_count": 6,
   "id": "e1bd8e34-d28a-4cad-89d0-17eaf7982cf9",
   "metadata": {},
   "outputs": [
    {
     "name": "stdout",
     "output_type": "stream",
     "text": [
      "PassengerId    891\n",
      "Survived         2\n",
      "Pclass           3\n",
      "Sex              2\n",
      "Age             88\n",
      "SibSp            7\n",
      "Parch            7\n",
      "Ticket         681\n",
      "Fare           248\n",
      "Embarked         3\n",
      "dtype: int64\n"
     ]
    }
   ],
   "source": [
    "print(data.nunique())"
   ]
  },
  {
   "cell_type": "code",
   "execution_count": 7,
   "id": "6fb0cc7d-fdc5-4984-8c80-a3391f8fdeee",
   "metadata": {},
   "outputs": [
    {
     "name": "stdout",
     "output_type": "stream",
     "text": [
      "   PassengerId  Survived  Pclass  Sex   Age  SibSp  Parch            Ticket  \\\n",
      "0            1         0       3    0  22.0      1      0         A/5 21171   \n",
      "1            2         1       1    1  38.0      1      0          PC 17599   \n",
      "2            3         1       3    1  26.0      0      0  STON/O2. 3101282   \n",
      "3            4         1       1    1  35.0      1      0            113803   \n",
      "4            5         0       3    0  35.0      0      0            373450   \n",
      "\n",
      "      Fare Embarked  \n",
      "0   7.2500        S  \n",
      "1  71.2833        C  \n",
      "2   7.9250        S  \n",
      "3  53.1000        S  \n",
      "4   8.0500        S  \n"
     ]
    }
   ],
   "source": [
    "data = pd.DataFrame(data)\n",
    "data['Sex'] = data['Sex'].map({'male': 0, 'female': 1})\n",
    "print(data.head())"
   ]
  },
  {
   "cell_type": "code",
   "execution_count": 8,
   "id": "09f24b88-8c1e-4ed6-94d2-b93d3335fd18",
   "metadata": {},
   "outputs": [],
   "source": [
    "data = data.drop('Ticket', axis=1)"
   ]
  },
  {
   "cell_type": "code",
   "execution_count": 9,
   "id": "4c3294dc-66f4-4472-97ca-52fb9b9cc574",
   "metadata": {},
   "outputs": [
    {
     "name": "stdout",
     "output_type": "stream",
     "text": [
      "   PassengerId  Survived  Pclass  Sex   Age  SibSp  Parch     Fare Embarked\n",
      "0            1         0       3    0  22.0      1      0   7.2500        S\n",
      "1            2         1       1    1  38.0      1      0  71.2833        C\n",
      "2            3         1       3    1  26.0      0      0   7.9250        S\n",
      "3            4         1       1    1  35.0      1      0  53.1000        S\n",
      "4            5         0       3    0  35.0      0      0   8.0500        S\n"
     ]
    }
   ],
   "source": [
    "print(data.head())"
   ]
  },
  {
   "cell_type": "code",
   "execution_count": 10,
   "id": "99007051-8e93-467f-a25f-2470bb7233bd",
   "metadata": {},
   "outputs": [
    {
     "name": "stdout",
     "output_type": "stream",
     "text": [
      "   PassengerId  Survived  Pclass  Sex   Age  SibSp  Parch     Fare  Embarked\n",
      "0            1         0       3    0  22.0      1      0   7.2500       1.0\n",
      "1            2         1       1    1  38.0      1      0  71.2833       2.0\n",
      "2            3         1       3    1  26.0      0      0   7.9250       1.0\n",
      "3            4         1       1    1  35.0      1      0  53.1000       1.0\n",
      "4            5         0       3    0  35.0      0      0   8.0500       1.0\n"
     ]
    }
   ],
   "source": [
    "data['Embarked'] = data['Embarked'].map({'S': 1, 'C': 2, 'Q': 3})\n",
    "print(data.head())       "
   ]
  },
  {
   "cell_type": "code",
   "execution_count": 11,
   "id": "073f1ce0-6e5d-4592-8423-951fee41bdb4",
   "metadata": {},
   "outputs": [
    {
     "data": {
      "text/plain": [
       "PassengerId      0\n",
       "Survived         0\n",
       "Pclass           0\n",
       "Sex              0\n",
       "Age            177\n",
       "SibSp            0\n",
       "Parch            0\n",
       "Fare             0\n",
       "Embarked         2\n",
       "dtype: int64"
      ]
     },
     "execution_count": 11,
     "metadata": {},
     "output_type": "execute_result"
    }
   ],
   "source": [
    "data.isnull().sum()"
   ]
  },
  {
   "cell_type": "code",
   "execution_count": 12,
   "id": "c5494aef-3a80-4c98-846b-c3f67bf0839f",
   "metadata": {},
   "outputs": [],
   "source": [
    "data = data.dropna()"
   ]
  },
  {
   "cell_type": "code",
   "execution_count": 13,
   "id": "bfb63421-f6f1-4c05-9cf5-8b6f01d679a2",
   "metadata": {},
   "outputs": [
    {
     "name": "stdout",
     "output_type": "stream",
     "text": [
      "   PassengerId  Survived  Pclass  Sex   Age  SibSp  Parch     Fare  Embarked\n",
      "0            1         0       3    0  22.0      1      0   7.2500       1.0\n",
      "1            2         1       1    1  38.0      1      0  71.2833       2.0\n",
      "2            3         1       3    1  26.0      0      0   7.9250       1.0\n",
      "3            4         1       1    1  35.0      1      0  53.1000       1.0\n",
      "4            5         0       3    0  35.0      0      0   8.0500       1.0\n",
      "PassengerId    0\n",
      "Survived       0\n",
      "Pclass         0\n",
      "Sex            0\n",
      "Age            0\n",
      "SibSp          0\n",
      "Parch          0\n",
      "Fare           0\n",
      "Embarked       0\n",
      "dtype: int64\n"
     ]
    }
   ],
   "source": [
    "print(data.head())\n",
    "print(data.isnull().sum())"
   ]
  },
  {
   "cell_type": "code",
   "execution_count": 14,
   "id": "96305c8d-6295-4f05-9ba1-fff69697afe7",
   "metadata": {},
   "outputs": [
    {
     "name": "stdout",
     "output_type": "stream",
     "text": [
      "     PassengerId  Pclass  Sex   Age  SibSp  Parch     Fare  Embarked\n",
      "0              1       3    0  22.0      1      0   7.2500       1.0\n",
      "1              2       1    1  38.0      1      0  71.2833       2.0\n",
      "2              3       3    1  26.0      0      0   7.9250       1.0\n",
      "3              4       1    1  35.0      1      0  53.1000       1.0\n",
      "4              5       3    0  35.0      0      0   8.0500       1.0\n",
      "..           ...     ...  ...   ...    ...    ...      ...       ...\n",
      "885          886       3    1  39.0      0      5  29.1250       3.0\n",
      "886          887       2    0  27.0      0      0  13.0000       1.0\n",
      "887          888       1    1  19.0      0      0  30.0000       1.0\n",
      "889          890       1    0  26.0      0      0  30.0000       2.0\n",
      "890          891       3    0  32.0      0      0   7.7500       3.0\n",
      "\n",
      "[712 rows x 8 columns]\n",
      "0      0\n",
      "1      1\n",
      "2      1\n",
      "3      1\n",
      "4      0\n",
      "      ..\n",
      "885    0\n",
      "886    0\n",
      "887    1\n",
      "889    1\n",
      "890    0\n",
      "Name: Survived, Length: 712, dtype: int64\n"
     ]
    }
   ],
   "source": [
    "features_cols = ['PassengerId', 'Pclass', 'Sex', 'Age', 'SibSp', 'Parch', 'Fare', 'Embarked']\n",
    "X = data[features_cols]\n",
    "Y = data['Survived']\n",
    "print(X)\n",
    "print(Y)"
   ]
  },
  {
   "cell_type": "code",
   "execution_count": 15,
   "id": "53846f5b-7e9b-4b5e-aa25-4e2325c789f9",
   "metadata": {},
   "outputs": [
    {
     "name": "stdout",
     "output_type": "stream",
     "text": [
      "Accuracy:  1.0\n",
      "Accuracy:  73.36448598130842 %\n"
     ]
    }
   ],
   "source": [
    "from sklearn.model_selection import train_test_split\n",
    "from sklearn.model_selection import cross_val_score\n",
    "from sklearn import metrics\n",
    "from sklearn.tree import DecisionTreeClassifier\n",
    "\n",
    "x_train, x_test, y_train, y_test = train_test_split(X, Y, test_size = 0.3)\n",
    "\n",
    "clf = DecisionTreeClassifier()\n",
    "clf = clf.fit(x_train, y_train)\n",
    "y_pred = clf.predict(x_test)\n",
    "y_train_pred = clf.predict(x_train)\n",
    "print(\"Accuracy: \", metrics.accuracy_score(y_train, y_train_pred))\n",
    "print(\"Accuracy: \", metrics.accuracy_score(y_test, y_pred) * 100, \"%\")"
   ]
  },
  {
   "cell_type": "code",
   "execution_count": 16,
   "id": "93ac50a4-4c5c-4b13-96ab-3a4cd6818f8e",
   "metadata": {},
   "outputs": [
    {
     "name": "stdout",
     "output_type": "stream",
     "text": [
      "Cross-val Score:  0.7590204081632653\n",
      "Accuracy:  74.29906542056075 %\n"
     ]
    }
   ],
   "source": [
    "clf1 = DecisionTreeClassifier()\n",
    "clf1.fit(x_train, y_train)\n",
    "print(\"Cross-val Score: \", cross_val_score(clf1, x_train, y_train, cv=10, scoring='accuracy').mean())\n",
    "y_pred = clf1.predict(x_test)\n",
    "print(\"Accuracy: \", metrics.accuracy_score(y_test, y_pred)* 100, \"%\")"
   ]
  },
  {
   "cell_type": "code",
   "execution_count": 17,
   "id": "4ba85fa9-e14d-49ae-abc0-4707e51498e5",
   "metadata": {},
   "outputs": [
    {
     "data": {
      "text/plain": [
       "[Text(0.4562872023809524, 0.9705882352941176, 'x[2] <= 0.5\\ngini = 0.476\\nsamples = 498\\nvalue = [303, 195]'),\n",
       " Text(0.15959821428571427, 0.9117647058823529, 'x[3] <= 9.5\\ngini = 0.327\\nsamples = 320\\nvalue = [254, 66]'),\n",
       " Text(0.08333333333333333, 0.8529411764705882, 'x[4] <= 2.5\\ngini = 0.434\\nsamples = 22\\nvalue = [7.0, 15.0]'),\n",
       " Text(0.07142857142857142, 0.7941176470588235, 'gini = 0.0\\nsamples = 15\\nvalue = [0, 15]'),\n",
       " Text(0.09523809523809523, 0.7941176470588235, 'gini = 0.0\\nsamples = 7\\nvalue = [7, 0]'),\n",
       " Text(0.23586309523809523, 0.8529411764705882, 'x[1] <= 1.5\\ngini = 0.284\\nsamples = 298\\nvalue = [247, 51]'),\n",
       " Text(0.11904761904761904, 0.7941176470588235, 'x[0] <= 548.5\\ngini = 0.459\\nsamples = 73\\nvalue = [47, 26]'),\n",
       " Text(0.047619047619047616, 0.7352941176470589, 'x[3] <= 39.0\\ngini = 0.298\\nsamples = 44\\nvalue = [36, 8]'),\n",
       " Text(0.023809523809523808, 0.6764705882352942, 'x[6] <= 27.15\\ngini = 0.475\\nsamples = 18\\nvalue = [11, 7]'),\n",
       " Text(0.011904761904761904, 0.6176470588235294, 'gini = 0.0\\nsamples = 2\\nvalue = [0, 2]'),\n",
       " Text(0.03571428571428571, 0.6176470588235294, 'x[3] <= 22.5\\ngini = 0.43\\nsamples = 16\\nvalue = [11, 5]'),\n",
       " Text(0.023809523809523808, 0.5588235294117647, 'gini = 0.0\\nsamples = 4\\nvalue = [4, 0]'),\n",
       " Text(0.047619047619047616, 0.5588235294117647, 'x[0] <= 108.5\\ngini = 0.486\\nsamples = 12\\nvalue = [7, 5]'),\n",
       " Text(0.03571428571428571, 0.5, 'gini = 0.0\\nsamples = 2\\nvalue = [0, 2]'),\n",
       " Text(0.05952380952380952, 0.5, 'x[4] <= 0.5\\ngini = 0.42\\nsamples = 10\\nvalue = [7, 3]'),\n",
       " Text(0.047619047619047616, 0.4411764705882353, 'gini = 0.0\\nsamples = 5\\nvalue = [5, 0]'),\n",
       " Text(0.07142857142857142, 0.4411764705882353, 'x[6] <= 78.3\\ngini = 0.48\\nsamples = 5\\nvalue = [2, 3]'),\n",
       " Text(0.05952380952380952, 0.38235294117647056, 'x[6] <= 52.827\\ngini = 0.444\\nsamples = 3\\nvalue = [2, 1]'),\n",
       " Text(0.047619047619047616, 0.3235294117647059, 'gini = 0.0\\nsamples = 1\\nvalue = [0, 1]'),\n",
       " Text(0.07142857142857142, 0.3235294117647059, 'gini = 0.0\\nsamples = 2\\nvalue = [2, 0]'),\n",
       " Text(0.08333333333333333, 0.38235294117647056, 'gini = 0.0\\nsamples = 2\\nvalue = [0, 2]'),\n",
       " Text(0.07142857142857142, 0.6764705882352942, 'x[0] <= 444.5\\ngini = 0.074\\nsamples = 26\\nvalue = [25, 1]'),\n",
       " Text(0.05952380952380952, 0.6176470588235294, 'gini = 0.0\\nsamples = 15\\nvalue = [15, 0]'),\n",
       " Text(0.08333333333333333, 0.6176470588235294, 'x[0] <= 453.5\\ngini = 0.165\\nsamples = 11\\nvalue = [10, 1]'),\n",
       " Text(0.07142857142857142, 0.5588235294117647, 'gini = 0.0\\nsamples = 1\\nvalue = [0, 1]'),\n",
       " Text(0.09523809523809523, 0.5588235294117647, 'gini = 0.0\\nsamples = 10\\nvalue = [10, 0]'),\n",
       " Text(0.19047619047619047, 0.7352941176470589, 'x[6] <= 95.042\\ngini = 0.471\\nsamples = 29\\nvalue = [11, 18]'),\n",
       " Text(0.17857142857142858, 0.6764705882352942, 'x[0] <= 733.5\\ngini = 0.497\\nsamples = 24\\nvalue = [11, 13]'),\n",
       " Text(0.15476190476190477, 0.6176470588235294, 'x[6] <= 52.55\\ngini = 0.457\\nsamples = 17\\nvalue = [6, 11]'),\n",
       " Text(0.14285714285714285, 0.5588235294117647, 'x[0] <= 698.5\\ngini = 0.497\\nsamples = 13\\nvalue = [6, 7]'),\n",
       " Text(0.13095238095238096, 0.5, 'x[0] <= 655.5\\ngini = 0.496\\nsamples = 11\\nvalue = [6, 5]'),\n",
       " Text(0.11904761904761904, 0.4411764705882353, 'x[0] <= 628.5\\ngini = 0.469\\nsamples = 8\\nvalue = [3, 5]'),\n",
       " Text(0.10714285714285714, 0.38235294117647056, 'x[3] <= 48.5\\ngini = 0.48\\nsamples = 5\\nvalue = [3, 2]'),\n",
       " Text(0.09523809523809523, 0.3235294117647059, 'x[6] <= 33.337\\ngini = 0.444\\nsamples = 3\\nvalue = [1, 2]'),\n",
       " Text(0.08333333333333333, 0.2647058823529412, 'gini = 0.0\\nsamples = 2\\nvalue = [0, 2]'),\n",
       " Text(0.10714285714285714, 0.2647058823529412, 'gini = 0.0\\nsamples = 1\\nvalue = [1, 0]'),\n",
       " Text(0.11904761904761904, 0.3235294117647059, 'gini = 0.0\\nsamples = 2\\nvalue = [2, 0]'),\n",
       " Text(0.13095238095238096, 0.38235294117647056, 'gini = 0.0\\nsamples = 3\\nvalue = [0, 3]'),\n",
       " Text(0.14285714285714285, 0.4411764705882353, 'gini = 0.0\\nsamples = 3\\nvalue = [3, 0]'),\n",
       " Text(0.15476190476190477, 0.5, 'gini = 0.0\\nsamples = 2\\nvalue = [0, 2]'),\n",
       " Text(0.16666666666666666, 0.5588235294117647, 'gini = 0.0\\nsamples = 4\\nvalue = [0, 4]'),\n",
       " Text(0.20238095238095238, 0.6176470588235294, 'x[0] <= 840.5\\ngini = 0.408\\nsamples = 7\\nvalue = [5, 2]'),\n",
       " Text(0.19047619047619047, 0.5588235294117647, 'gini = 0.0\\nsamples = 5\\nvalue = [5, 0]'),\n",
       " Text(0.21428571428571427, 0.5588235294117647, 'gini = 0.0\\nsamples = 2\\nvalue = [0, 2]'),\n",
       " Text(0.20238095238095238, 0.6764705882352942, 'gini = 0.0\\nsamples = 5\\nvalue = [0, 5]'),\n",
       " Text(0.35267857142857145, 0.7941176470588235, 'x[3] <= 24.5\\ngini = 0.198\\nsamples = 225\\nvalue = [200, 25]'),\n",
       " Text(0.2857142857142857, 0.7352941176470589, 'x[3] <= 20.5\\ngini = 0.093\\nsamples = 82\\nvalue = [78, 4]'),\n",
       " Text(0.27380952380952384, 0.6764705882352942, 'x[3] <= 19.5\\ngini = 0.172\\nsamples = 42\\nvalue = [38, 4]'),\n",
       " Text(0.25, 0.6176470588235294, 'x[0] <= 230.0\\ngini = 0.108\\nsamples = 35\\nvalue = [33, 2]'),\n",
       " Text(0.23809523809523808, 0.5588235294117647, 'x[0] <= 190.5\\ngini = 0.346\\nsamples = 9\\nvalue = [7, 2]'),\n",
       " Text(0.2261904761904762, 0.5, 'gini = 0.0\\nsamples = 7\\nvalue = [7, 0]'),\n",
       " Text(0.25, 0.5, 'gini = 0.0\\nsamples = 2\\nvalue = [0, 2]'),\n",
       " Text(0.2619047619047619, 0.5588235294117647, 'gini = 0.0\\nsamples = 26\\nvalue = [26, 0]'),\n",
       " Text(0.2976190476190476, 0.6176470588235294, 'x[4] <= 0.5\\ngini = 0.408\\nsamples = 7\\nvalue = [5, 2]'),\n",
       " Text(0.2857142857142857, 0.5588235294117647, 'gini = 0.0\\nsamples = 5\\nvalue = [5, 0]'),\n",
       " Text(0.30952380952380953, 0.5588235294117647, 'gini = 0.0\\nsamples = 2\\nvalue = [0, 2]'),\n",
       " Text(0.2976190476190476, 0.6764705882352942, 'gini = 0.0\\nsamples = 40\\nvalue = [40, 0]'),\n",
       " Text(0.41964285714285715, 0.7352941176470589, 'x[3] <= 32.25\\ngini = 0.251\\nsamples = 143\\nvalue = [122, 21]'),\n",
       " Text(0.3630952380952381, 0.6764705882352942, 'x[6] <= 7.013\\ngini = 0.363\\nsamples = 63\\nvalue = [48, 15]'),\n",
       " Text(0.35119047619047616, 0.6176470588235294, 'gini = 0.0\\nsamples = 2\\nvalue = [0, 2]'),\n",
       " Text(0.375, 0.6176470588235294, 'x[3] <= 30.5\\ngini = 0.335\\nsamples = 61\\nvalue = [48, 13]'),\n",
       " Text(0.3333333333333333, 0.5588235294117647, 'x[1] <= 2.5\\ngini = 0.265\\nsamples = 51\\nvalue = [43, 8]'),\n",
       " Text(0.32142857142857145, 0.5, 'gini = 0.0\\nsamples = 11\\nvalue = [11, 0]'),\n",
       " Text(0.34523809523809523, 0.5, 'x[6] <= 18.294\\ngini = 0.32\\nsamples = 40\\nvalue = [32, 8]'),\n",
       " Text(0.32142857142857145, 0.4411764705882353, 'x[6] <= 7.746\\ngini = 0.272\\nsamples = 37\\nvalue = [31, 6]'),\n",
       " Text(0.30952380952380953, 0.38235294117647056, 'gini = 0.0\\nsamples = 8\\nvalue = [8, 0]'),\n",
       " Text(0.3333333333333333, 0.38235294117647056, 'x[7] <= 1.5\\ngini = 0.328\\nsamples = 29\\nvalue = [23, 6]'),\n",
       " Text(0.30952380952380953, 0.3235294117647059, 'x[0] <= 816.5\\ngini = 0.26\\nsamples = 26\\nvalue = [22, 4]'),\n",
       " Text(0.2976190476190476, 0.2647058823529412, 'x[0] <= 304.5\\ngini = 0.211\\nsamples = 25\\nvalue = [22, 3]'),\n",
       " Text(0.2857142857142857, 0.20588235294117646, 'x[0] <= 261.0\\ngini = 0.397\\nsamples = 11\\nvalue = [8, 3]'),\n",
       " Text(0.2619047619047619, 0.14705882352941177, 'x[0] <= 152.5\\ngini = 0.219\\nsamples = 8\\nvalue = [7, 1]'),\n",
       " Text(0.25, 0.08823529411764706, 'x[0] <= 119.0\\ngini = 0.444\\nsamples = 3\\nvalue = [2, 1]'),\n",
       " Text(0.23809523809523808, 0.029411764705882353, 'gini = 0.0\\nsamples = 2\\nvalue = [2, 0]'),\n",
       " Text(0.2619047619047619, 0.029411764705882353, 'gini = 0.0\\nsamples = 1\\nvalue = [0, 1]'),\n",
       " Text(0.27380952380952384, 0.08823529411764706, 'gini = 0.0\\nsamples = 5\\nvalue = [5, 0]'),\n",
       " Text(0.30952380952380953, 0.14705882352941177, 'x[3] <= 26.5\\ngini = 0.444\\nsamples = 3\\nvalue = [1, 2]'),\n",
       " Text(0.2976190476190476, 0.08823529411764706, 'gini = 0.0\\nsamples = 1\\nvalue = [0, 1]'),\n",
       " Text(0.32142857142857145, 0.08823529411764706, 'x[6] <= 8.677\\ngini = 0.5\\nsamples = 2\\nvalue = [1, 1]'),\n",
       " Text(0.30952380952380953, 0.029411764705882353, 'gini = 0.0\\nsamples = 1\\nvalue = [1, 0]'),\n",
       " Text(0.3333333333333333, 0.029411764705882353, 'gini = 0.0\\nsamples = 1\\nvalue = [0, 1]'),\n",
       " Text(0.30952380952380953, 0.20588235294117646, 'gini = 0.0\\nsamples = 14\\nvalue = [14, 0]'),\n",
       " Text(0.32142857142857145, 0.2647058823529412, 'gini = 0.0\\nsamples = 1\\nvalue = [0, 1]'),\n",
       " Text(0.35714285714285715, 0.3235294117647059, 'x[6] <= 11.175\\ngini = 0.444\\nsamples = 3\\nvalue = [1, 2]'),\n",
       " Text(0.34523809523809523, 0.2647058823529412, 'gini = 0.0\\nsamples = 2\\nvalue = [0, 2]'),\n",
       " Text(0.36904761904761907, 0.2647058823529412, 'gini = 0.0\\nsamples = 1\\nvalue = [1, 0]'),\n",
       " Text(0.36904761904761907, 0.4411764705882353, 'x[0] <= 189.0\\ngini = 0.444\\nsamples = 3\\nvalue = [1, 2]'),\n",
       " Text(0.35714285714285715, 0.38235294117647056, 'gini = 0.0\\nsamples = 1\\nvalue = [1, 0]'),\n",
       " Text(0.38095238095238093, 0.38235294117647056, 'gini = 0.0\\nsamples = 2\\nvalue = [0, 2]'),\n",
       " Text(0.4166666666666667, 0.5588235294117647, 'x[4] <= 0.5\\ngini = 0.5\\nsamples = 10\\nvalue = [5, 5]'),\n",
       " Text(0.40476190476190477, 0.5, 'x[0] <= 775.5\\ngini = 0.278\\nsamples = 6\\nvalue = [1, 5]'),\n",
       " Text(0.39285714285714285, 0.4411764705882353, 'gini = 0.0\\nsamples = 5\\nvalue = [0, 5]'),\n",
       " Text(0.4166666666666667, 0.4411764705882353, 'gini = 0.0\\nsamples = 1\\nvalue = [1, 0]'),\n",
       " Text(0.42857142857142855, 0.5, 'gini = 0.0\\nsamples = 4\\nvalue = [4, 0]'),\n",
       " Text(0.47619047619047616, 0.6764705882352942, 'x[0] <= 28.0\\ngini = 0.139\\nsamples = 80\\nvalue = [74, 6]'),\n",
       " Text(0.4523809523809524, 0.6176470588235294, 'x[3] <= 36.5\\ngini = 0.5\\nsamples = 2\\nvalue = [1, 1]'),\n",
       " Text(0.44047619047619047, 0.5588235294117647, 'gini = 0.0\\nsamples = 1\\nvalue = [0, 1]'),\n",
       " Text(0.4642857142857143, 0.5588235294117647, 'gini = 0.0\\nsamples = 1\\nvalue = [1, 0]'),\n",
       " Text(0.5, 0.6176470588235294, 'x[0] <= 579.0\\ngini = 0.12\\nsamples = 78\\nvalue = [73, 5]'),\n",
       " Text(0.4880952380952381, 0.5588235294117647, 'x[0] <= 566.5\\ngini = 0.198\\nsamples = 45\\nvalue = [40, 5]'),\n",
       " Text(0.47619047619047616, 0.5, 'x[0] <= 285.0\\ngini = 0.165\\nsamples = 44\\nvalue = [40, 4]'),\n",
       " Text(0.4642857142857143, 0.4411764705882353, 'gini = 0.0\\nsamples = 25\\nvalue = [25, 0]'),\n",
       " Text(0.4880952380952381, 0.4411764705882353, 'x[0] <= 291.0\\ngini = 0.332\\nsamples = 19\\nvalue = [15, 4]'),\n",
       " Text(0.47619047619047616, 0.38235294117647056, 'gini = 0.0\\nsamples = 1\\nvalue = [0, 1]'),\n",
       " Text(0.5, 0.38235294117647056, 'x[6] <= 8.356\\ngini = 0.278\\nsamples = 18\\nvalue = [15, 3]'),\n",
       " Text(0.4880952380952381, 0.3235294117647059, 'x[6] <= 7.91\\ngini = 0.469\\nsamples = 8\\nvalue = [5, 3]'),\n",
       " Text(0.47619047619047616, 0.2647058823529412, 'gini = 0.0\\nsamples = 4\\nvalue = [4, 0]'),\n",
       " Text(0.5, 0.2647058823529412, 'x[3] <= 47.5\\ngini = 0.375\\nsamples = 4\\nvalue = [1, 3]'),\n",
       " Text(0.4880952380952381, 0.20588235294117646, 'gini = 0.0\\nsamples = 3\\nvalue = [0, 3]'),\n",
       " Text(0.5119047619047619, 0.20588235294117646, 'gini = 0.0\\nsamples = 1\\nvalue = [1, 0]'),\n",
       " Text(0.5119047619047619, 0.3235294117647059, 'gini = 0.0\\nsamples = 10\\nvalue = [10, 0]'),\n",
       " Text(0.5, 0.5, 'gini = 0.0\\nsamples = 1\\nvalue = [0, 1]'),\n",
       " Text(0.5119047619047619, 0.5588235294117647, 'gini = 0.0\\nsamples = 33\\nvalue = [33, 0]'),\n",
       " Text(0.7529761904761905, 0.9117647058823529, 'x[1] <= 2.5\\ngini = 0.399\\nsamples = 178\\nvalue = [49, 129]'),\n",
       " Text(0.6071428571428571, 0.8529411764705882, 'x[6] <= 28.856\\ngini = 0.093\\nsamples = 102\\nvalue = [5, 97]'),\n",
       " Text(0.5952380952380952, 0.7941176470588235, 'x[6] <= 28.231\\ngini = 0.183\\nsamples = 49\\nvalue = [5, 44]'),\n",
       " Text(0.5833333333333334, 0.7352941176470589, 'x[3] <= 37.0\\ngini = 0.153\\nsamples = 48\\nvalue = [4, 44]'),\n",
       " Text(0.5595238095238095, 0.6764705882352942, 'x[0] <= 315.0\\ngini = 0.056\\nsamples = 35\\nvalue = [1, 34]'),\n",
       " Text(0.5476190476190477, 0.6176470588235294, 'x[0] <= 280.5\\ngini = 0.153\\nsamples = 12\\nvalue = [1, 11]'),\n",
       " Text(0.5357142857142857, 0.5588235294117647, 'gini = 0.0\\nsamples = 11\\nvalue = [0, 11]'),\n",
       " Text(0.5595238095238095, 0.5588235294117647, 'gini = 0.0\\nsamples = 1\\nvalue = [1, 0]'),\n",
       " Text(0.5714285714285714, 0.6176470588235294, 'gini = 0.0\\nsamples = 23\\nvalue = [0, 23]'),\n",
       " Text(0.6071428571428571, 0.6764705882352942, 'x[3] <= 39.0\\ngini = 0.355\\nsamples = 13\\nvalue = [3, 10]'),\n",
       " Text(0.5952380952380952, 0.6176470588235294, 'gini = 0.0\\nsamples = 1\\nvalue = [1, 0]'),\n",
       " Text(0.6190476190476191, 0.6176470588235294, 'x[0] <= 740.0\\ngini = 0.278\\nsamples = 12\\nvalue = [2, 10]'),\n",
       " Text(0.6071428571428571, 0.5588235294117647, 'gini = 0.0\\nsamples = 8\\nvalue = [0, 8]'),\n",
       " Text(0.6309523809523809, 0.5588235294117647, 'x[0] <= 785.0\\ngini = 0.5\\nsamples = 4\\nvalue = [2, 2]'),\n",
       " Text(0.6190476190476191, 0.5, 'gini = 0.0\\nsamples = 1\\nvalue = [1, 0]'),\n",
       " Text(0.6428571428571429, 0.5, 'x[4] <= 0.5\\ngini = 0.444\\nsamples = 3\\nvalue = [1, 2]'),\n",
       " Text(0.6309523809523809, 0.4411764705882353, 'gini = 0.0\\nsamples = 2\\nvalue = [0, 2]'),\n",
       " Text(0.6547619047619048, 0.4411764705882353, 'gini = 0.0\\nsamples = 1\\nvalue = [1, 0]'),\n",
       " Text(0.6071428571428571, 0.7352941176470589, 'gini = 0.0\\nsamples = 1\\nvalue = [1, 0]'),\n",
       " Text(0.6190476190476191, 0.7941176470588235, 'gini = 0.0\\nsamples = 53\\nvalue = [0, 53]'),\n",
       " Text(0.8988095238095238, 0.8529411764705882, 'x[6] <= 20.8\\ngini = 0.488\\nsamples = 76\\nvalue = [44, 32]'),\n",
       " Text(0.8214285714285714, 0.7941176470588235, 'x[3] <= 36.0\\ngini = 0.499\\nsamples = 58\\nvalue = [28.0, 30.0]'),\n",
       " Text(0.8095238095238095, 0.7352941176470589, 'x[0] <= 399.0\\ngini = 0.488\\nsamples = 52\\nvalue = [22.0, 30.0]'),\n",
       " Text(0.7440476190476191, 0.6764705882352942, 'x[6] <= 7.763\\ngini = 0.408\\nsamples = 28\\nvalue = [8, 20]'),\n",
       " Text(0.7321428571428571, 0.6176470588235294, 'gini = 0.0\\nsamples = 6\\nvalue = [0, 6]'),\n",
       " Text(0.7559523809523809, 0.6176470588235294, 'x[5] <= 0.5\\ngini = 0.463\\nsamples = 22\\nvalue = [8, 14]'),\n",
       " Text(0.7142857142857143, 0.5588235294117647, 'x[3] <= 25.5\\ngini = 0.497\\nsamples = 13\\nvalue = [7, 6]'),\n",
       " Text(0.6904761904761905, 0.5, 'x[7] <= 2.5\\ngini = 0.375\\nsamples = 8\\nvalue = [6, 2]'),\n",
       " Text(0.6785714285714286, 0.4411764705882353, 'x[3] <= 14.25\\ngini = 0.245\\nsamples = 7\\nvalue = [6, 1]'),\n",
       " Text(0.6666666666666666, 0.38235294117647056, 'x[7] <= 1.5\\ngini = 0.5\\nsamples = 2\\nvalue = [1, 1]'),\n",
       " Text(0.6547619047619048, 0.3235294117647059, 'gini = 0.0\\nsamples = 1\\nvalue = [1, 0]'),\n",
       " Text(0.6785714285714286, 0.3235294117647059, 'gini = 0.0\\nsamples = 1\\nvalue = [0, 1]'),\n",
       " Text(0.6904761904761905, 0.38235294117647056, 'gini = 0.0\\nsamples = 5\\nvalue = [5, 0]'),\n",
       " Text(0.7023809523809523, 0.4411764705882353, 'gini = 0.0\\nsamples = 1\\nvalue = [0, 1]'),\n",
       " Text(0.7380952380952381, 0.5, 'x[6] <= 16.925\\ngini = 0.32\\nsamples = 5\\nvalue = [1, 4]'),\n",
       " Text(0.7261904761904762, 0.4411764705882353, 'gini = 0.0\\nsamples = 4\\nvalue = [0, 4]'),\n",
       " Text(0.75, 0.4411764705882353, 'gini = 0.0\\nsamples = 1\\nvalue = [1, 0]'),\n",
       " Text(0.7976190476190477, 0.5588235294117647, 'x[6] <= 10.798\\ngini = 0.198\\nsamples = 9\\nvalue = [1, 8]'),\n",
       " Text(0.7857142857142857, 0.5, 'x[3] <= 9.5\\ngini = 0.5\\nsamples = 2\\nvalue = [1, 1]'),\n",
       " Text(0.7738095238095238, 0.4411764705882353, 'gini = 0.0\\nsamples = 1\\nvalue = [1, 0]'),\n",
       " Text(0.7976190476190477, 0.4411764705882353, 'gini = 0.0\\nsamples = 1\\nvalue = [0, 1]'),\n",
       " Text(0.8095238095238095, 0.5, 'gini = 0.0\\nsamples = 7\\nvalue = [0, 7]'),\n",
       " Text(0.875, 0.6764705882352942, 'x[3] <= 16.5\\ngini = 0.486\\nsamples = 24\\nvalue = [14, 10]'),\n",
       " Text(0.8333333333333334, 0.6176470588235294, 'x[0] <= 817.0\\ngini = 0.245\\nsamples = 7\\nvalue = [1, 6]'),\n",
       " Text(0.8214285714285714, 0.5588235294117647, 'gini = 0.0\\nsamples = 5\\nvalue = [0, 5]'),\n",
       " Text(0.8452380952380952, 0.5588235294117647, 'x[4] <= 0.5\\ngini = 0.5\\nsamples = 2\\nvalue = [1, 1]'),\n",
       " Text(0.8333333333333334, 0.5, 'gini = 0.0\\nsamples = 1\\nvalue = [0, 1]'),\n",
       " Text(0.8571428571428571, 0.5, 'gini = 0.0\\nsamples = 1\\nvalue = [1, 0]'),\n",
       " Text(0.9166666666666666, 0.6176470588235294, 'x[0] <= 836.5\\ngini = 0.36\\nsamples = 17\\nvalue = [13, 4]'),\n",
       " Text(0.8928571428571429, 0.5588235294117647, 'x[6] <= 7.85\\ngini = 0.245\\nsamples = 14\\nvalue = [12, 2]'),\n",
       " Text(0.8809523809523809, 0.5, 'x[7] <= 2.0\\ngini = 0.48\\nsamples = 5\\nvalue = [3, 2]'),\n",
       " Text(0.8690476190476191, 0.4411764705882353, 'gini = 0.0\\nsamples = 2\\nvalue = [0, 2]'),\n",
       " Text(0.8928571428571429, 0.4411764705882353, 'gini = 0.0\\nsamples = 3\\nvalue = [3, 0]'),\n",
       " Text(0.9047619047619048, 0.5, 'gini = 0.0\\nsamples = 9\\nvalue = [9, 0]'),\n",
       " Text(0.9404761904761905, 0.5588235294117647, 'x[5] <= 0.5\\ngini = 0.444\\nsamples = 3\\nvalue = [1, 2]'),\n",
       " Text(0.9285714285714286, 0.5, 'gini = 0.0\\nsamples = 1\\nvalue = [1, 0]'),\n",
       " Text(0.9523809523809523, 0.5, 'gini = 0.0\\nsamples = 2\\nvalue = [0, 2]'),\n",
       " Text(0.8333333333333334, 0.7352941176470589, 'gini = 0.0\\nsamples = 6\\nvalue = [6, 0]'),\n",
       " Text(0.9761904761904762, 0.7941176470588235, 'x[0] <= 304.5\\ngini = 0.198\\nsamples = 18\\nvalue = [16, 2]'),\n",
       " Text(0.9642857142857143, 0.7352941176470589, 'x[5] <= 4.5\\ngini = 0.444\\nsamples = 6\\nvalue = [4, 2]'),\n",
       " Text(0.9523809523809523, 0.6764705882352942, 'x[3] <= 6.5\\ngini = 0.32\\nsamples = 5\\nvalue = [4, 1]'),\n",
       " Text(0.9404761904761905, 0.6176470588235294, 'gini = 0.0\\nsamples = 1\\nvalue = [0, 1]'),\n",
       " Text(0.9642857142857143, 0.6176470588235294, 'gini = 0.0\\nsamples = 4\\nvalue = [4, 0]'),\n",
       " Text(0.9761904761904762, 0.6764705882352942, 'gini = 0.0\\nsamples = 1\\nvalue = [0, 1]'),\n",
       " Text(0.9880952380952381, 0.7352941176470589, 'gini = 0.0\\nsamples = 12\\nvalue = [12, 0]')]"
      ]
     },
     "execution_count": 17,
     "metadata": {},
     "output_type": "execute_result"
    },
    {
     "data": {
      "image/png": "[encoded data removed]",
      "text/plain": [
       "<Figure size 640x480 with 1 Axes>"
      ]
     },
     "metadata": {},
     "output_type": "display_data"
    }
   ],
   "source": [
    "from sklearn import tree\n",
    "tree.plot_tree(clf1)"
   ]
  },
  {
   "cell_type": "code",
   "execution_count": null,
   "id": "d602580d-a68a-46f2-a4b1-d257e92d6859",
   "metadata": {},
   "outputs": [],
   "source": []
  }
 ],
 "metadata": {
  "kernelspec": {
   "display_name": "Python 3 (ipykernel)",
   "language": "python",
   "name": "python3"
  },
  "language_info": {
   "codemirror_mode": {
    "name": "ipython",
    "version": 3
   },
   "file_extension": ".py",
   "mimetype": "text/x-python",
   "name": "python",
   "nbconvert_exporter": "python",
   "pygments_lexer": "ipython3",
   "version": "3.11.3"
  }
 },
 "nbformat": 4,
 "nbformat_minor": 5
}
